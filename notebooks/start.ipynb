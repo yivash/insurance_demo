{
 "cells": [
  {
   "cell_type": "code",
   "execution_count": 41,
   "id": "b163f628",
   "metadata": {},
   "outputs": [],
   "source": [
    "import numpy as np\n",
    "import pandas as pd\n",
    "from sklearn.ensemble import RandomForestRegressor\n",
    "from sklearn import tree\n",
    "import xgboost as xg\n",
    "from joblib import dump, load "
   ]
  },
  {
   "cell_type": "code",
   "execution_count": 29,
   "id": "ec857d65",
   "metadata": {},
   "outputs": [],
   "source": [
    "df = pd.read_csv('../data/data.csv',sep = ';')"
   ]
  },
  {
   "cell_type": "code",
   "execution_count": 30,
   "id": "12023a73",
   "metadata": {},
   "outputs": [
    {
     "data": {
      "text/html": [
       "<div>\n",
       "<style scoped>\n",
       "    .dataframe tbody tr th:only-of-type {\n",
       "        vertical-align: middle;\n",
       "    }\n",
       "\n",
       "    .dataframe tbody tr th {\n",
       "        vertical-align: top;\n",
       "    }\n",
       "\n",
       "    .dataframe thead th {\n",
       "        text-align: right;\n",
       "    }\n",
       "</style>\n",
       "<table border=\"1\" class=\"dataframe\">\n",
       "  <thead>\n",
       "    <tr style=\"text-align: right;\">\n",
       "      <th></th>\n",
       "      <th>Claim Number</th>\n",
       "      <th>date_of_loss</th>\n",
       "      <th>dayofweek</th>\n",
       "      <th>isweekend</th>\n",
       "      <th>month</th>\n",
       "      <th>season</th>\n",
       "      <th>Notifier</th>\n",
       "      <th>Loss_code</th>\n",
       "      <th>Loss_description</th>\n",
       "      <th>Notification_period</th>\n",
       "      <th>...</th>\n",
       "      <th>TP_region_outerldn</th>\n",
       "      <th>TP_region_scotland</th>\n",
       "      <th>TP_region_southe</th>\n",
       "      <th>TP_region_southw</th>\n",
       "      <th>TP_region_wales</th>\n",
       "      <th>TP_region_westmid</th>\n",
       "      <th>TP_region_yorkshire</th>\n",
       "      <th>sum_TP</th>\n",
       "      <th>Incurred</th>\n",
       "      <th>Capped Incurred</th>\n",
       "    </tr>\n",
       "  </thead>\n",
       "  <tbody>\n",
       "    <tr>\n",
       "      <th>0</th>\n",
       "      <td>1</td>\n",
       "      <td>2003-04-15</td>\n",
       "      <td>2</td>\n",
       "      <td>0</td>\n",
       "      <td>4</td>\n",
       "      <td>2</td>\n",
       "      <td>3</td>\n",
       "      <td>LD003</td>\n",
       "      <td>Head on collision</td>\n",
       "      <td>22</td>\n",
       "      <td>...</td>\n",
       "      <td>0</td>\n",
       "      <td>0</td>\n",
       "      <td>0</td>\n",
       "      <td>0</td>\n",
       "      <td>0</td>\n",
       "      <td>0</td>\n",
       "      <td>0</td>\n",
       "      <td>1</td>\n",
       "      <td>0</td>\n",
       "      <td>0.000000</td>\n",
       "    </tr>\n",
       "    <tr>\n",
       "      <th>1</th>\n",
       "      <td>2</td>\n",
       "      <td>2003-04-20</td>\n",
       "      <td>7</td>\n",
       "      <td>1</td>\n",
       "      <td>4</td>\n",
       "      <td>2</td>\n",
       "      <td>0</td>\n",
       "      <td>LD003</td>\n",
       "      <td>Head on collision</td>\n",
       "      <td>1</td>\n",
       "      <td>...</td>\n",
       "      <td>0</td>\n",
       "      <td>0</td>\n",
       "      <td>1</td>\n",
       "      <td>0</td>\n",
       "      <td>0</td>\n",
       "      <td>0</td>\n",
       "      <td>0</td>\n",
       "      <td>1</td>\n",
       "      <td>2801</td>\n",
       "      <td>4074.670583</td>\n",
       "    </tr>\n",
       "    <tr>\n",
       "      <th>2</th>\n",
       "      <td>3</td>\n",
       "      <td>2003-04-24</td>\n",
       "      <td>4</td>\n",
       "      <td>0</td>\n",
       "      <td>4</td>\n",
       "      <td>2</td>\n",
       "      <td>0</td>\n",
       "      <td>LD003</td>\n",
       "      <td>Head on collision</td>\n",
       "      <td>5</td>\n",
       "      <td>...</td>\n",
       "      <td>0</td>\n",
       "      <td>0</td>\n",
       "      <td>0</td>\n",
       "      <td>0</td>\n",
       "      <td>0</td>\n",
       "      <td>0</td>\n",
       "      <td>0</td>\n",
       "      <td>1</td>\n",
       "      <td>1220</td>\n",
       "      <td>1775.829235</td>\n",
       "    </tr>\n",
       "    <tr>\n",
       "      <th>3</th>\n",
       "      <td>4</td>\n",
       "      <td>2003-05-13</td>\n",
       "      <td>2</td>\n",
       "      <td>0</td>\n",
       "      <td>5</td>\n",
       "      <td>2</td>\n",
       "      <td>0</td>\n",
       "      <td>LD003</td>\n",
       "      <td>Head on collision</td>\n",
       "      <td>1</td>\n",
       "      <td>...</td>\n",
       "      <td>0</td>\n",
       "      <td>0</td>\n",
       "      <td>0</td>\n",
       "      <td>0</td>\n",
       "      <td>0</td>\n",
       "      <td>1</td>\n",
       "      <td>0</td>\n",
       "      <td>1</td>\n",
       "      <td>3529</td>\n",
       "      <td>5134.404835</td>\n",
       "    </tr>\n",
       "    <tr>\n",
       "      <th>4</th>\n",
       "      <td>5</td>\n",
       "      <td>2003-06-11</td>\n",
       "      <td>3</td>\n",
       "      <td>0</td>\n",
       "      <td>6</td>\n",
       "      <td>1</td>\n",
       "      <td>0</td>\n",
       "      <td>LD003</td>\n",
       "      <td>Head on collision</td>\n",
       "      <td>1</td>\n",
       "      <td>...</td>\n",
       "      <td>0</td>\n",
       "      <td>0</td>\n",
       "      <td>0</td>\n",
       "      <td>0</td>\n",
       "      <td>0</td>\n",
       "      <td>0</td>\n",
       "      <td>0</td>\n",
       "      <td>0</td>\n",
       "      <td>3155</td>\n",
       "      <td>4590.573794</td>\n",
       "    </tr>\n",
       "    <tr>\n",
       "      <th>...</th>\n",
       "      <td>...</td>\n",
       "      <td>...</td>\n",
       "      <td>...</td>\n",
       "      <td>...</td>\n",
       "      <td>...</td>\n",
       "      <td>...</td>\n",
       "      <td>...</td>\n",
       "      <td>...</td>\n",
       "      <td>...</td>\n",
       "      <td>...</td>\n",
       "      <td>...</td>\n",
       "      <td>...</td>\n",
       "      <td>...</td>\n",
       "      <td>...</td>\n",
       "      <td>...</td>\n",
       "      <td>...</td>\n",
       "      <td>...</td>\n",
       "      <td>...</td>\n",
       "      <td>...</td>\n",
       "      <td>...</td>\n",
       "      <td>...</td>\n",
       "    </tr>\n",
       "    <tr>\n",
       "      <th>7686</th>\n",
       "      <td>7687</td>\n",
       "      <td>2015-06-30</td>\n",
       "      <td>2</td>\n",
       "      <td>0</td>\n",
       "      <td>6</td>\n",
       "      <td>1</td>\n",
       "      <td>2</td>\n",
       "      <td>LD003</td>\n",
       "      <td>Head on collision</td>\n",
       "      <td>1</td>\n",
       "      <td>...</td>\n",
       "      <td>0</td>\n",
       "      <td>0</td>\n",
       "      <td>0</td>\n",
       "      <td>0</td>\n",
       "      <td>0</td>\n",
       "      <td>0</td>\n",
       "      <td>0</td>\n",
       "      <td>1</td>\n",
       "      <td>702</td>\n",
       "      <td>1022.285569</td>\n",
       "    </tr>\n",
       "    <tr>\n",
       "      <th>7687</th>\n",
       "      <td>7688</td>\n",
       "      <td>2015-06-30</td>\n",
       "      <td>2</td>\n",
       "      <td>0</td>\n",
       "      <td>6</td>\n",
       "      <td>1</td>\n",
       "      <td>2</td>\n",
       "      <td>LD003</td>\n",
       "      <td>Head on collision</td>\n",
       "      <td>0</td>\n",
       "      <td>...</td>\n",
       "      <td>0</td>\n",
       "      <td>0</td>\n",
       "      <td>0</td>\n",
       "      <td>0</td>\n",
       "      <td>0</td>\n",
       "      <td>0</td>\n",
       "      <td>2</td>\n",
       "      <td>2</td>\n",
       "      <td>42980</td>\n",
       "      <td>62517.889017</td>\n",
       "    </tr>\n",
       "    <tr>\n",
       "      <th>7688</th>\n",
       "      <td>7689</td>\n",
       "      <td>2015-06-30</td>\n",
       "      <td>2</td>\n",
       "      <td>0</td>\n",
       "      <td>6</td>\n",
       "      <td>1</td>\n",
       "      <td>2</td>\n",
       "      <td>LD003</td>\n",
       "      <td>Head on collision</td>\n",
       "      <td>0</td>\n",
       "      <td>...</td>\n",
       "      <td>0</td>\n",
       "      <td>0</td>\n",
       "      <td>1</td>\n",
       "      <td>0</td>\n",
       "      <td>0</td>\n",
       "      <td>0</td>\n",
       "      <td>0</td>\n",
       "      <td>1</td>\n",
       "      <td>5174</td>\n",
       "      <td>7527.058308</td>\n",
       "    </tr>\n",
       "    <tr>\n",
       "      <th>7689</th>\n",
       "      <td>7690</td>\n",
       "      <td>2015-06-30</td>\n",
       "      <td>2</td>\n",
       "      <td>0</td>\n",
       "      <td>6</td>\n",
       "      <td>1</td>\n",
       "      <td>2</td>\n",
       "      <td>LD003</td>\n",
       "      <td>Head on collision</td>\n",
       "      <td>1</td>\n",
       "      <td>...</td>\n",
       "      <td>0</td>\n",
       "      <td>0</td>\n",
       "      <td>0</td>\n",
       "      <td>0</td>\n",
       "      <td>0</td>\n",
       "      <td>0</td>\n",
       "      <td>0</td>\n",
       "      <td>0</td>\n",
       "      <td>30072</td>\n",
       "      <td>43742.134995</td>\n",
       "    </tr>\n",
       "    <tr>\n",
       "      <th>7690</th>\n",
       "      <td>7691</td>\n",
       "      <td>2015-06-30</td>\n",
       "      <td>2</td>\n",
       "      <td>0</td>\n",
       "      <td>6</td>\n",
       "      <td>1</td>\n",
       "      <td>2</td>\n",
       "      <td>LD003</td>\n",
       "      <td>Head on collision</td>\n",
       "      <td>0</td>\n",
       "      <td>...</td>\n",
       "      <td>0</td>\n",
       "      <td>0</td>\n",
       "      <td>0</td>\n",
       "      <td>0</td>\n",
       "      <td>0</td>\n",
       "      <td>0</td>\n",
       "      <td>1</td>\n",
       "      <td>1</td>\n",
       "      <td>1925</td>\n",
       "      <td>2800.569068</td>\n",
       "    </tr>\n",
       "  </tbody>\n",
       "</table>\n",
       "<p>7691 rows × 50 columns</p>\n",
       "</div>"
      ],
      "text/plain": [
       "      Claim Number date_of_loss  dayofweek  isweekend  month  season  \\\n",
       "0                1   2003-04-15          2          0      4       2   \n",
       "1                2   2003-04-20          7          1      4       2   \n",
       "2                3   2003-04-24          4          0      4       2   \n",
       "3                4   2003-05-13          2          0      5       2   \n",
       "4                5   2003-06-11          3          0      6       1   \n",
       "...            ...          ...        ...        ...    ...     ...   \n",
       "7686          7687   2015-06-30          2          0      6       1   \n",
       "7687          7688   2015-06-30          2          0      6       1   \n",
       "7688          7689   2015-06-30          2          0      6       1   \n",
       "7689          7690   2015-06-30          2          0      6       1   \n",
       "7690          7691   2015-06-30          2          0      6       1   \n",
       "\n",
       "      Notifier Loss_code   Loss_description  Notification_period  ...  \\\n",
       "0            3     LD003  Head on collision                   22  ...   \n",
       "1            0     LD003  Head on collision                    1  ...   \n",
       "2            0     LD003  Head on collision                    5  ...   \n",
       "3            0     LD003  Head on collision                    1  ...   \n",
       "4            0     LD003  Head on collision                    1  ...   \n",
       "...        ...       ...                ...                  ...  ...   \n",
       "7686         2     LD003  Head on collision                    1  ...   \n",
       "7687         2     LD003  Head on collision                    0  ...   \n",
       "7688         2     LD003  Head on collision                    0  ...   \n",
       "7689         2     LD003  Head on collision                    1  ...   \n",
       "7690         2     LD003  Head on collision                    0  ...   \n",
       "\n",
       "      TP_region_outerldn  TP_region_scotland  TP_region_southe  \\\n",
       "0                      0                   0                 0   \n",
       "1                      0                   0                 1   \n",
       "2                      0                   0                 0   \n",
       "3                      0                   0                 0   \n",
       "4                      0                   0                 0   \n",
       "...                  ...                 ...               ...   \n",
       "7686                   0                   0                 0   \n",
       "7687                   0                   0                 0   \n",
       "7688                   0                   0                 1   \n",
       "7689                   0                   0                 0   \n",
       "7690                   0                   0                 0   \n",
       "\n",
       "      TP_region_southw  TP_region_wales  TP_region_westmid  \\\n",
       "0                    0                0                  0   \n",
       "1                    0                0                  0   \n",
       "2                    0                0                  0   \n",
       "3                    0                0                  1   \n",
       "4                    0                0                  0   \n",
       "...                ...              ...                ...   \n",
       "7686                 0                0                  0   \n",
       "7687                 0                0                  0   \n",
       "7688                 0                0                  0   \n",
       "7689                 0                0                  0   \n",
       "7690                 0                0                  0   \n",
       "\n",
       "      TP_region_yorkshire  sum_TP  Incurred  Capped Incurred  \n",
       "0                       0       1         0         0.000000  \n",
       "1                       0       1      2801      4074.670583  \n",
       "2                       0       1      1220      1775.829235  \n",
       "3                       0       1      3529      5134.404835  \n",
       "4                       0       0      3155      4590.573794  \n",
       "...                   ...     ...       ...              ...  \n",
       "7686                    0       1       702      1022.285569  \n",
       "7687                    2       2     42980     62517.889017  \n",
       "7688                    0       1      5174      7527.058308  \n",
       "7689                    0       0     30072     43742.134995  \n",
       "7690                    1       1      1925      2800.569068  \n",
       "\n",
       "[7691 rows x 50 columns]"
      ]
     },
     "execution_count": 30,
     "metadata": {},
     "output_type": "execute_result"
    }
   ],
   "source": [
    "df"
   ]
  },
  {
   "cell_type": "code",
   "execution_count": 31,
   "id": "97b049ef",
   "metadata": {},
   "outputs": [
    {
     "data": {
      "text/plain": [
       "Index(['Claim Number', 'date_of_loss', 'dayofweek', 'isweekend', 'month',\n",
       "       'season', 'Notifier', 'Loss_code', 'Loss_description',\n",
       "       'Notification_period', 'Inception_to_loss', 'Location_of_incident',\n",
       "       'Weather_conditions', 'Vehicle_mobile', 'Time_hour', 'Main_driver',\n",
       "       'Vechile_registration_present', 'Incident_details_present',\n",
       "       'Injury_details_present', 'TP_type_insd_pass_back',\n",
       "       'TP_type_insd_pass_front', 'TP_type_driver', 'TP_type_pass_back',\n",
       "       'TP_type_pass_front', 'TP_type_bike', 'TP_type_cyclist',\n",
       "       'TP_type_pass_multi', 'TP_type_pedestrian', 'TP_type_other',\n",
       "       'TP_type_nk', 'TP_injury_whiplash', 'TP_injury_traumatic',\n",
       "       'TP_injury_fatality', 'TP_injury_unclear', 'TP_injury_nk',\n",
       "       'TP_region_eastang', 'TP_region_eastmid', 'TP_region_london',\n",
       "       'TP_region_north', 'TP_region_northw', 'TP_region_outerldn',\n",
       "       'TP_region_scotland', 'TP_region_southe', 'TP_region_southw',\n",
       "       'TP_region_wales', 'TP_region_westmid', 'TP_region_yorkshire', 'sum_TP',\n",
       "       'Incurred', 'Capped Incurred'],\n",
       "      dtype='object')"
      ]
     },
     "execution_count": 31,
     "metadata": {},
     "output_type": "execute_result"
    }
   ],
   "source": [
    "df.columns"
   ]
  },
  {
   "cell_type": "code",
   "execution_count": 32,
   "id": "fe8fd0a6",
   "metadata": {},
   "outputs": [],
   "source": [
    "cols = ['isweekend', 'month', 'season', 'Notification_period','Inception_to_loss', 'Weather_conditions', 'Time_hour',  'TP_injury_traumatic',\n",
    "       'TP_injury_fatality', 'sum_TP']"
   ]
  },
  {
   "cell_type": "code",
   "execution_count": 33,
   "id": "fe664900",
   "metadata": {},
   "outputs": [],
   "source": [
    "X = df[cols]\n",
    "y = df['Incurred']"
   ]
  },
  {
   "cell_type": "markdown",
   "id": "05cb8e8f",
   "metadata": {},
   "source": [
    "### XGB"
   ]
  },
  {
   "cell_type": "code",
   "execution_count": 11,
   "id": "16428d00",
   "metadata": {},
   "outputs": [
    {
     "data": {
      "text/plain": [
       "XGBRegressor(base_score=0.5, booster='gbtree', callbacks=None,\n",
       "             colsample_bylevel=1, colsample_bynode=1, colsample_bytree=1,\n",
       "             early_stopping_rounds=None, enable_categorical=False,\n",
       "             eval_metric=None, gamma=0, gpu_id=-1, grow_policy='depthwise',\n",
       "             importance_type=None, interaction_constraints='',\n",
       "             learning_rate=0.300000012, max_bin=256, max_cat_to_onehot=4,\n",
       "             max_delta_step=0, max_depth=6, max_leaves=0, min_child_weight=1,\n",
       "             missing=nan, monotone_constraints='()', n_estimators=100, n_jobs=0,\n",
       "             num_parallel_tree=1, predictor='auto', random_state=0, reg_alpha=0,\n",
       "             reg_lambda=1, ...)"
      ]
     },
     "execution_count": 11,
     "metadata": {},
     "output_type": "execute_result"
    }
   ],
   "source": [
    "model = xg.XGBRegressor()\n",
    "model.fit(X,y)"
   ]
  },
  {
   "cell_type": "code",
   "execution_count": 13,
   "id": "69d93433",
   "metadata": {},
   "outputs": [],
   "source": [
    "model.save_model('../models/xg_model.pkl')"
   ]
  },
  {
   "cell_type": "markdown",
   "id": "eb599f3c",
   "metadata": {},
   "source": [
    "### RF"
   ]
  },
  {
   "cell_type": "code",
   "execution_count": 10,
   "id": "0f1cb2a0",
   "metadata": {
    "scrolled": true
   },
   "outputs": [
    {
     "data": {
      "text/plain": [
       "RandomForestRegressor()"
      ]
     },
     "execution_count": 10,
     "metadata": {},
     "output_type": "execute_result"
    }
   ],
   "source": [
    "model2 = RandomForestRegressor()\n",
    "model2.fit(X,y)"
   ]
  },
  {
   "cell_type": "code",
   "execution_count": 14,
   "id": "90cfd24c",
   "metadata": {},
   "outputs": [
    {
     "data": {
      "text/plain": [
       "['../models/rf_model.pkl']"
      ]
     },
     "execution_count": 14,
     "metadata": {},
     "output_type": "execute_result"
    }
   ],
   "source": [
    "dump(model2, '../models/rf_model.pkl')"
   ]
  },
  {
   "cell_type": "code",
   "execution_count": 25,
   "id": "e1ea76c4",
   "metadata": {},
   "outputs": [],
   "source": [
    "model = load('../src/rf_model.pkl') "
   ]
  },
  {
   "cell_type": "code",
   "execution_count": 27,
   "id": "adb46090",
   "metadata": {},
   "outputs": [
    {
     "data": {
      "text/plain": [
       "sklearn.ensemble._forest.RandomForestRegressor"
      ]
     },
     "execution_count": 27,
     "metadata": {},
     "output_type": "execute_result"
    }
   ],
   "source": [
    "type(model)"
   ]
  },
  {
   "cell_type": "markdown",
   "id": "2208d6d8",
   "metadata": {},
   "source": [
    "### DT"
   ]
  },
  {
   "cell_type": "code",
   "execution_count": 42,
   "id": "812a4677",
   "metadata": {
    "scrolled": true
   },
   "outputs": [
    {
     "data": {
      "text/plain": [
       "DecisionTreeRegressor()"
      ]
     },
     "execution_count": 42,
     "metadata": {},
     "output_type": "execute_result"
    }
   ],
   "source": [
    "model3 = tree.DecisionTreeRegressor()\n",
    "model3.fit(X,y)"
   ]
  },
  {
   "cell_type": "code",
   "execution_count": 43,
   "id": "a847fccd",
   "metadata": {},
   "outputs": [
    {
     "data": {
      "text/plain": [
       "['../src/dt_model.pkl']"
      ]
     },
     "execution_count": 43,
     "metadata": {},
     "output_type": "execute_result"
    }
   ],
   "source": [
    "dump(model3, '../src/dt_model.pkl')"
   ]
  },
  {
   "cell_type": "code",
   "execution_count": 44,
   "id": "7cbeae80",
   "metadata": {},
   "outputs": [],
   "source": [
    "model = load('../src/dt_model.pkl') "
   ]
  },
  {
   "cell_type": "code",
   "execution_count": 45,
   "id": "0bf472d9",
   "metadata": {},
   "outputs": [
    {
     "data": {
      "text/plain": [
       "sklearn.tree._classes.DecisionTreeRegressor"
      ]
     },
     "execution_count": 45,
     "metadata": {},
     "output_type": "execute_result"
    }
   ],
   "source": [
    "type(model)"
   ]
  },
  {
   "cell_type": "code",
   "execution_count": 48,
   "id": "36a689b3",
   "metadata": {},
   "outputs": [
    {
     "data": {
      "text/plain": [
       "'1.0.2'"
      ]
     },
     "execution_count": 48,
     "metadata": {},
     "output_type": "execute_result"
    }
   ],
   "source": [
    "import sklearn\n",
    "sklearn.__version__"
   ]
  },
  {
   "cell_type": "code",
   "execution_count": null,
   "id": "213573ad",
   "metadata": {},
   "outputs": [],
   "source": []
  }
 ],
 "metadata": {
  "kernelspec": {
   "display_name": "Python 3",
   "language": "python",
   "name": "python3"
  },
  "language_info": {
   "codemirror_mode": {
    "name": "ipython",
    "version": 3
   },
   "file_extension": ".py",
   "mimetype": "text/x-python",
   "name": "python",
   "nbconvert_exporter": "python",
   "pygments_lexer": "ipython3",
   "version": "3.7.9"
  }
 },
 "nbformat": 4,
 "nbformat_minor": 5
}
